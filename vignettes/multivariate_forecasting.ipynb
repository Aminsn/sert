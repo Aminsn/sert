{
 "cells": [
  {
   "cell_type": "markdown",
   "metadata": {},
   "source": [
    "# Multivariate Timeseries Forecasting with the `sert` Python Package\n",
    "\n",
    "**Author:** Amin Shoari Nejad &nbsp;&nbsp;&nbsp;&nbsp;&nbsp;**Date created:** 2023/09/04"
   ]
  },
  {
   "cell_type": "markdown",
   "metadata": {},
   "source": [
    "In this notebook, we demonstrate how to utilize the sert package for multivariate timeseries forecasting. The process includes data loading, preprocessing, model instantiation, training, and evaluation.\n",
    "\n",
    "# 1. Imports\n",
    "\n",
    "Assuming that you have installed the sert package, we can import the necessary modules."
   ]
  },
  {
   "cell_type": "code",
   "execution_count": 11,
   "metadata": {},
   "outputs": [],
   "source": [
    "from sert.models import TimeSERT\n",
    "from sert.preprocessing import SeqDataPreparer\n",
    "from sert.datasets import ts_forecasting\n",
    "from sert.losses import MaskedMSE\n",
    "\n",
    "import numpy as np\n",
    "import pandas as pd\n",
    "import seaborn as sns\n",
    "import matplotlib.pyplot as plt\n",
    "from sklearn.preprocessing import StandardScaler"
   ]
  },
  {
   "cell_type": "markdown",
   "metadata": {},
   "source": [
    "- **TimeSERT**: This is one of the primary classes of the `sert` package, suitable for both time series classification and multivariate forecasting. In this notebook, we'll use it for multivariate time series forecasting.\n",
    "\n",
    "- **SeqDataPreparer**: This class assists in preparing data for time series classification. Models within the `sert` package expect data in a particular format, and `SeqDataPreparer` facilitates this transformation. It employs the same `fit_transform` and `transform` syntax found in scikit-learn.\n",
    "\n",
    "- **ts_forecasting**: This function creates a dataframe including multivariate time series data. Specifically, there are three correlated time series generated from a Gaussian process and they have seasonality and trend. For more details, invoke `help(ts_forecasting)`.\n",
    "\n",
    "- **MaskedMSE**: This is a custom loss function for training models on sparse data. It is a masked version of the mean squared error (MSE) loss function that masks out the missing values in the output."
   ]
  },
  {
   "cell_type": "markdown",
   "metadata": {},
   "source": [
    "# 2. Load the Dataset\n",
    "\n",
    "Our sert package conveniently provides a multivariate time series dataset for demonstration purposes. To make the learning task more challenging we introduce some gaps in the data. "
   ]
  },
  {
   "cell_type": "code",
   "execution_count": 6,
   "metadata": {},
   "outputs": [],
   "source": [
    "# generate the dataset\n",
    "df = ts_forecasting(time_length=18500)\n",
    "\n",
    "# randomly sample 20 intervals of length 500\n",
    "np.random.seed(123)\n",
    "starts = np.random.randint(100, 15000, 20)\n",
    "ends = starts + 500\n",
    "intervals = list(zip(starts, ends))\n",
    "\n",
    "# introduce the gaps in the dataset\n",
    "for start, end in intervals:\n",
    "    # randomly choose a time series column\n",
    "    col_number = np.random.randint(1, 4, 1)\n",
    "    # set the values in the interval to NaN\n",
    "    df.iloc[start:end, col_number] = np.nan"
   ]
  },
  {
   "cell_type": "markdown",
   "metadata": {},
   "source": [
    "# 3. Data Preprocessing\n",
    "\n",
    "In order to feed our data into the **TimeSERT** model, we need to perform some preprocessing steps.\n",
    "First we need to scale the data. We use the `StandardScaler` from scikit-learn for this purpose. To do so we need to fit the scaler on the training data and then transform both the training and test data."
   ]
  },
  {
   "cell_type": "code",
   "execution_count": 7,
   "metadata": {},
   "outputs": [],
   "source": [
    "split_time = 15000\n",
    "\n",
    "train = df.query(f'time <= {split_time}')\n",
    "test = df.query(f'time > {split_time}')\n",
    "\n",
    "# --- Scale the data --- #\n",
    "value_columns = train.drop('time', axis=1).columns\n",
    "\n",
    "scaler = StandardScaler()\n",
    "\n",
    "train[value_columns] = scaler.fit_transform(train[value_columns])\n",
    "test[value_columns] = scaler.transform(test[value_columns])"
   ]
  },
  {
   "cell_type": "markdown",
   "metadata": {},
   "source": [
    "Remember that our task is to forecast future values of the time series based on past values. A typical approach to preparing training data for time series is to use a sliding window of observations. In this method, each training sample comprises a sequence of observations within an observation window, and the subsequent observations in a prediction window serve as the target values.\n",
    "\n",
    "Models in sert are designed to work with data in set format (i.e., each row is a single observation with time, variable name, value). We melt the data into this format first and then apply the sliding window method."
   ]
  },
  {
   "cell_type": "code",
   "execution_count": 8,
   "metadata": {},
   "outputs": [
    {
     "data": {
      "text/html": [
       "<div>\n",
       "<style scoped>\n",
       "    .dataframe tbody tr th:only-of-type {\n",
       "        vertical-align: middle;\n",
       "    }\n",
       "\n",
       "    .dataframe tbody tr th {\n",
       "        vertical-align: top;\n",
       "    }\n",
       "\n",
       "    .dataframe thead th {\n",
       "        text-align: right;\n",
       "    }\n",
       "</style>\n",
       "<table border=\"1\" class=\"dataframe\">\n",
       "  <thead>\n",
       "    <tr style=\"text-align: right;\">\n",
       "      <th></th>\n",
       "      <th>time</th>\n",
       "      <th>variable</th>\n",
       "      <th>value</th>\n",
       "    </tr>\n",
       "  </thead>\n",
       "  <tbody>\n",
       "    <tr>\n",
       "      <th>0</th>\n",
       "      <td>1.0</td>\n",
       "      <td>x1</td>\n",
       "      <td>-0.229289</td>\n",
       "    </tr>\n",
       "    <tr>\n",
       "      <th>1</th>\n",
       "      <td>2.0</td>\n",
       "      <td>x1</td>\n",
       "      <td>-0.104582</td>\n",
       "    </tr>\n",
       "    <tr>\n",
       "      <th>2</th>\n",
       "      <td>3.0</td>\n",
       "      <td>x1</td>\n",
       "      <td>-0.065015</td>\n",
       "    </tr>\n",
       "    <tr>\n",
       "      <th>3</th>\n",
       "      <td>4.0</td>\n",
       "      <td>x1</td>\n",
       "      <td>0.083156</td>\n",
       "    </tr>\n",
       "    <tr>\n",
       "      <th>4</th>\n",
       "      <td>5.0</td>\n",
       "      <td>x1</td>\n",
       "      <td>0.070011</td>\n",
       "    </tr>\n",
       "    <tr>\n",
       "      <th>...</th>\n",
       "      <td>...</td>\n",
       "      <td>...</td>\n",
       "      <td>...</td>\n",
       "    </tr>\n",
       "    <tr>\n",
       "      <th>44995</th>\n",
       "      <td>14996.0</td>\n",
       "      <td>x3</td>\n",
       "      <td>1.072004</td>\n",
       "    </tr>\n",
       "    <tr>\n",
       "      <th>44996</th>\n",
       "      <td>14997.0</td>\n",
       "      <td>x3</td>\n",
       "      <td>0.891699</td>\n",
       "    </tr>\n",
       "    <tr>\n",
       "      <th>44997</th>\n",
       "      <td>14998.0</td>\n",
       "      <td>x3</td>\n",
       "      <td>0.943091</td>\n",
       "    </tr>\n",
       "    <tr>\n",
       "      <th>44998</th>\n",
       "      <td>14999.0</td>\n",
       "      <td>x3</td>\n",
       "      <td>1.362988</td>\n",
       "    </tr>\n",
       "    <tr>\n",
       "      <th>44999</th>\n",
       "      <td>15000.0</td>\n",
       "      <td>x3</td>\n",
       "      <td>0.991880</td>\n",
       "    </tr>\n",
       "  </tbody>\n",
       "</table>\n",
       "<p>45000 rows × 3 columns</p>\n",
       "</div>"
      ],
      "text/plain": [
       "          time variable     value\n",
       "0          1.0       x1 -0.229289\n",
       "1          2.0       x1 -0.104582\n",
       "2          3.0       x1 -0.065015\n",
       "3          4.0       x1  0.083156\n",
       "4          5.0       x1  0.070011\n",
       "...        ...      ...       ...\n",
       "44995  14996.0       x3  1.072004\n",
       "44996  14997.0       x3  0.891699\n",
       "44997  14998.0       x3  0.943091\n",
       "44998  14999.0       x3  1.362988\n",
       "44999  15000.0       x3  0.991880\n",
       "\n",
       "[45000 rows x 3 columns]"
      ]
     },
     "execution_count": 8,
     "metadata": {},
     "output_type": "execute_result"
    }
   ],
   "source": [
    "train_long = pd.melt(train, id_vars=['time'], value_vars=value_columns)\n",
    "test_long = pd.melt(test, id_vars=['time'], value_vars=value_columns)\n",
    "train_long"
   ]
  },
  {
   "cell_type": "code",
   "execution_count": 9,
   "metadata": {},
   "outputs": [
    {
     "data": {
      "image/png": "[encoded data removed]",
      "text/plain": [
       "<Figure size 1200x300 with 3 Axes>"
      ]
     },
     "metadata": {},
     "output_type": "display_data"
    }
   ],
   "source": [
    "# Plotting the training data\n",
    "g = sns.FacetGrid(train_long, col=\"variable\", col_wrap=4, height=3)\n",
    "g = g.map(plt.plot, \"time\", \"value\")\n",
    "plt.show()"
   ]
  },
  {
   "cell_type": "code",
   "execution_count": 10,
   "metadata": {},
   "outputs": [],
   "source": [
    "def create_dataset(values, times, obs_window_len, forecast_horizon, col_names=None):\n",
    "    \"\"\"\n",
    "    Creates a dataset for multivariate forecasting using a sliding window approach.\n",
    "    \"\"\"\n",
    "\n",
    "    end = np.max(times)\n",
    "    t = np.min(times)\n",
    "    X = []\n",
    "    y = []\n",
    "\n",
    "    while t <= end - (obs_window_len+forecast_horizon) + 1:\n",
    "\n",
    "        # extracting observation window\n",
    "        obs_data = values[(times >= t) & (times < t+obs_window_len)]\n",
    "        # adding window identifier\n",
    "        obs_data = np.hstack(\n",
    "            (obs_data, np.repeat(t, len(obs_data)).reshape(-1, 1)))\n",
    "        X.append(obs_data)\n",
    "\n",
    "        pred_hour = t+obs_window_len-1+forecast_horizon  # forecasting hour\n",
    "        preds = values[times == pred_hour]\n",
    "        preds = np.hstack((preds, np.repeat(t, len(preds)).reshape(-1, 1)))\n",
    "        y.append(preds)\n",
    "\n",
    "        t += 1\n",
    "\n",
    "    X = np.concatenate(X, axis=0)\n",
    "    y = np.concatenate(y, axis=0)\n",
    "\n",
    "    # Extending column names\n",
    "    col_names_ext = col_names.to_list()\n",
    "    col_names_ext.append('window')\n",
    "\n",
    "    X = pd.DataFrame(X, columns=col_names_ext)\n",
    "    y = pd.DataFrame(y, columns=col_names_ext)\n",
    "    y = y.pivot(index='window', columns='variable',\n",
    "                values='value').astype(float)  # .values\n",
    "\n",
    "    return X, y\n",
    "\n",
    "\n",
    "# setting the window length and forecast horizon\n",
    "window_len = 20\n",
    "horizon = 7\n",
    "\n",
    "X_train, y_train = create_dataset(train_long.values,\n",
    "                                  train_long['time'].values,\n",
    "                                  obs_window_len=window_len,\n",
    "                                  forecast_horizon=horizon,\n",
    "                                  col_names=train_long.columns)\n",
    "\n",
    "X_test, y_test = create_dataset(test_long.values,\n",
    "                                test_long['time'].values,\n",
    "                                obs_window_len=window_len,\n",
    "                                forecast_horizon=horizon,\n",
    "                                col_names=test_long.columns)"
   ]
  },
  {
   "cell_type": "markdown",
   "metadata": {},
   "source": [
    "We just applied the sliding window approach to create training sets with a length of 20 observations to forecast the next 7 hours. Due to the gaps in the data, some windows could be empty. In the next step, we remove these windows from the training set."
   ]
  },
  {
   "cell_type": "code",
   "execution_count": 307,
   "metadata": {},
   "outputs": [],
   "source": [
    "# removing the empty windows and their associated forecast targets\n",
    "empty_windows = X_train.groupby('window').apply(\n",
    "    lambda group: group['value'].isnull().all())\n",
    "empty_windows = empty_windows[empty_windows].index.tolist()\n",
    "\n",
    "X_train = X_train[~X_train['window'].isin(empty_windows)]\n",
    "y_train = y_train[~y_train.index.isin(empty_windows)]"
   ]
  },
  {
   "cell_type": "code",
   "execution_count": 292,
   "metadata": {},
   "outputs": [
    {
     "data": {
      "text/html": [
       "<div>\n",
       "<style scoped>\n",
       "    .dataframe tbody tr th:only-of-type {\n",
       "        vertical-align: middle;\n",
       "    }\n",
       "\n",
       "    .dataframe tbody tr th {\n",
       "        vertical-align: top;\n",
       "    }\n",
       "\n",
       "    .dataframe thead th {\n",
       "        text-align: right;\n",
       "    }\n",
       "</style>\n",
       "<table border=\"1\" class=\"dataframe\">\n",
       "  <thead>\n",
       "    <tr style=\"text-align: right;\">\n",
       "      <th></th>\n",
       "      <th>time</th>\n",
       "      <th>variable</th>\n",
       "      <th>value</th>\n",
       "      <th>window</th>\n",
       "    </tr>\n",
       "  </thead>\n",
       "  <tbody>\n",
       "    <tr>\n",
       "      <th>0</th>\n",
       "      <td>1.0</td>\n",
       "      <td>x1</td>\n",
       "      <td>-0.247695</td>\n",
       "      <td>1.0</td>\n",
       "    </tr>\n",
       "    <tr>\n",
       "      <th>1</th>\n",
       "      <td>2.0</td>\n",
       "      <td>x1</td>\n",
       "      <td>-0.121533</td>\n",
       "      <td>1.0</td>\n",
       "    </tr>\n",
       "    <tr>\n",
       "      <th>2</th>\n",
       "      <td>3.0</td>\n",
       "      <td>x1</td>\n",
       "      <td>-0.081504</td>\n",
       "      <td>1.0</td>\n",
       "    </tr>\n",
       "    <tr>\n",
       "      <th>3</th>\n",
       "      <td>4.0</td>\n",
       "      <td>x1</td>\n",
       "      <td>0.068395</td>\n",
       "      <td>1.0</td>\n",
       "    </tr>\n",
       "    <tr>\n",
       "      <th>4</th>\n",
       "      <td>5.0</td>\n",
       "      <td>x1</td>\n",
       "      <td>0.055097</td>\n",
       "      <td>1.0</td>\n",
       "    </tr>\n",
       "    <tr>\n",
       "      <th>...</th>\n",
       "      <td>...</td>\n",
       "      <td>...</td>\n",
       "      <td>...</td>\n",
       "      <td>...</td>\n",
       "    </tr>\n",
       "    <tr>\n",
       "      <th>898435</th>\n",
       "      <td>14989.0</td>\n",
       "      <td>x3</td>\n",
       "      <td>1.455773</td>\n",
       "      <td>14974.0</td>\n",
       "    </tr>\n",
       "    <tr>\n",
       "      <th>898436</th>\n",
       "      <td>14990.0</td>\n",
       "      <td>x3</td>\n",
       "      <td>1.48296</td>\n",
       "      <td>14974.0</td>\n",
       "    </tr>\n",
       "    <tr>\n",
       "      <th>898437</th>\n",
       "      <td>14991.0</td>\n",
       "      <td>x3</td>\n",
       "      <td>1.454044</td>\n",
       "      <td>14974.0</td>\n",
       "    </tr>\n",
       "    <tr>\n",
       "      <th>898438</th>\n",
       "      <td>14992.0</td>\n",
       "      <td>x3</td>\n",
       "      <td>1.344268</td>\n",
       "      <td>14974.0</td>\n",
       "    </tr>\n",
       "    <tr>\n",
       "      <th>898439</th>\n",
       "      <td>14993.0</td>\n",
       "      <td>x3</td>\n",
       "      <td>1.151232</td>\n",
       "      <td>14974.0</td>\n",
       "    </tr>\n",
       "  </tbody>\n",
       "</table>\n",
       "<p>880500 rows × 4 columns</p>\n",
       "</div>"
      ],
      "text/plain": [
       "           time variable     value   window\n",
       "0           1.0       x1 -0.247695      1.0\n",
       "1           2.0       x1 -0.121533      1.0\n",
       "2           3.0       x1 -0.081504      1.0\n",
       "3           4.0       x1  0.068395      1.0\n",
       "4           5.0       x1  0.055097      1.0\n",
       "...         ...      ...       ...      ...\n",
       "898435  14989.0       x3  1.455773  14974.0\n",
       "898436  14990.0       x3   1.48296  14974.0\n",
       "898437  14991.0       x3  1.454044  14974.0\n",
       "898438  14992.0       x3  1.344268  14974.0\n",
       "898439  14993.0       x3  1.151232  14974.0\n",
       "\n",
       "[880500 rows x 4 columns]"
      ]
     },
     "execution_count": 292,
     "metadata": {},
     "output_type": "execute_result"
    }
   ],
   "source": [
    "# how the data looks like after the sliding window approach\n",
    "X_train"
   ]
  },
  {
   "cell_type": "markdown",
   "metadata": {},
   "source": [
    "Next, we'll convert the input data into a list of numpy arrays suitable for the model. We utilize the `SeqDataPreparer` class for this, which accepts a single argument: `token_capacity`. This represents the maximum number of observations (a.k.a tokens) expected in the training data. \n",
    "\n",
    "After instantiating the `SeqDataPreparer` class, you'll need to:\n",
    "\n",
    "- Call the `fit_transform` method on the training data. This method returns a list of numpy arrays prepared for training.\n",
    "- Call the `transform` method on the test data. This method returns a list of numpy arrays ready for testing. Note that this method assumes that the `fit_transform` method has already been called on the training data and the training and test data are of the same format.\n",
    "\n",
    "The `fit_transform` method requires four arguments:\n",
    "\n",
    "1. **index**: The name of the column that contains the unique identifier for each sequence. In our dataset, this is the `window` column.\n",
    "2. **times**: The name of the column that contains the time variable for each observation. For us, it's the `time` column.\n",
    "3. **names**: The column name that represents the name of the sequence. In this example, it's the `variable` column. \n",
    "4. **values**: This refers to the column that contains the values of the variable for each observation. In our example, this is the `value` column."
   ]
  },
  {
   "cell_type": "code",
   "execution_count": 309,
   "metadata": {},
   "outputs": [],
   "source": [
    "# Determine the token capacity based on the maximum sequence length in the training set\n",
    "token_cap = X_train.groupby('window').size().max()\n",
    "\n",
    "processor = SeqDataPreparer(token_capacity=token_cap)\n",
    "\n",
    "train_input = processor.fit_transform(X_train,\n",
    "                                      index='window',\n",
    "                                      times='time',\n",
    "                                      names='variable',\n",
    "                                      values='value')\n",
    "\n",
    "test_input = processor.transform(X_test)"
   ]
  },
  {
   "cell_type": "markdown",
   "metadata": {},
   "source": [
    "Our input data is now ready to be fed into the model. We also need to prepare the target data. Since we're using a masked MSE loss function, we need to create a mask for the target data. "
   ]
  },
  {
   "cell_type": "code",
   "execution_count": 310,
   "metadata": {},
   "outputs": [],
   "source": [
    "# create the output mask: 1 if the value is not missing, 0 otherwise\n",
    "y_mask = ~np.isnan(y_train)\n",
    "# impute the missing values with 0, will be masked out later and doesn't affect the loss\n",
    "y_train_np = np.nan_to_num(y_train)"
   ]
  },
  {
   "cell_type": "markdown",
   "metadata": {},
   "source": [
    "We also need to stack the target data and the mask together to create a single numpy array that will be used by the loss function (`MaskedMSE` requires the target and the mask to be stacked)."
   ]
  },
  {
   "cell_type": "code",
   "execution_count": 311,
   "metadata": {},
   "outputs": [],
   "source": [
    "train_output = np.stack([y_train_np, y_mask], axis=-1)"
   ]
  },
  {
   "cell_type": "markdown",
   "metadata": {},
   "source": [
    "# 4. Model Instantiation\n",
    "\n",
    "Now, we'll instantiate the TimeSERT model with appropriate hyperparameters."
   ]
  },
  {
   "cell_type": "code",
   "execution_count": 312,
   "metadata": {},
   "outputs": [],
   "source": [
    "model = TimeSERT(num_var=3,\n",
    "                 emb_dim=15,\n",
    "                 num_head=3,\n",
    "                 ffn_dim=5,\n",
    "                 num_repeat=1,\n",
    "                 num_out=3)"
   ]
  },
  {
   "cell_type": "markdown",
   "metadata": {},
   "source": [
    "### Hyperparameters:\n",
    "\n",
    "- **num_var**: Represents the number of variables in the dataset required by the embedding layer to encode variable names. In this case, there are 3 variables, representing the three time series. \n",
    "- **emb_dim**: Dimension of the embedding layer. Represents the dimension of the latent space.\n",
    "- **num_head**: Number of attention heads.\n",
    "- **ffn_dim**: Dimension of the feedforward layer.\n",
    "- **num_repeat**: Number of times the encoder block is repeated.\n",
    "- **num_out**: Dimension of the target variable. In this case, it's the same as the number of variables, because we are using the past values of the variables to predict their future values.\n",
    "\n",
    "The `emb_dim`, `num_head`, `ffn_dim`, and `num_repeat` hyperparameters determine the size of the model. The larger these values are, the more complex the model becomes. "
   ]
  },
  {
   "cell_type": "markdown",
   "metadata": {},
   "source": [
    "# 5. Model Compilation\n",
    "\n",
    "The instantiated model is a TensorFlow model. We must compile it using the `compile` method, specifying the optimizer, loss function, and metrics we want to track, as with any TensorFlow model. For this example, we are using the Adam optimizer, and the masked MSE loss function provided by the package."
   ]
  },
  {
   "cell_type": "code",
   "execution_count": 313,
   "metadata": {},
   "outputs": [],
   "source": [
    "model.compile(loss=MaskedMSE(), optimizer='adam')"
   ]
  },
  {
   "cell_type": "markdown",
   "metadata": {},
   "source": [
    "# 6. Model Training\n",
    "\n",
    "With our data and model ready, we can now train the TimeSERT model."
   ]
  },
  {
   "cell_type": "code",
   "execution_count": 314,
   "metadata": {},
   "outputs": [
    {
     "name": "stdout",
     "output_type": "stream",
     "text": [
      "Epoch 1/15\n",
      "60/60 [==============================] - 2s 20ms/step - loss: 0.4241\n",
      "Epoch 2/15\n",
      "60/60 [==============================] - 1s 20ms/step - loss: 0.1418\n",
      "Epoch 3/15\n",
      "60/60 [==============================] - 1s 22ms/step - loss: 0.1304\n",
      "Epoch 4/15\n",
      "60/60 [==============================] - 1s 22ms/step - loss: 0.1219\n",
      "Epoch 5/15\n",
      "60/60 [==============================] - 1s 22ms/step - loss: 0.1111\n",
      "Epoch 6/15\n",
      "60/60 [==============================] - 1s 22ms/step - loss: 0.0945\n",
      "Epoch 7/15\n",
      "60/60 [==============================] - 1s 22ms/step - loss: 0.0684\n",
      "Epoch 8/15\n",
      "60/60 [==============================] - 1s 22ms/step - loss: 0.0557\n",
      "Epoch 9/15\n",
      "60/60 [==============================] - 1s 22ms/step - loss: 0.0503\n",
      "Epoch 10/15\n",
      "60/60 [==============================] - 1s 22ms/step - loss: 0.0482\n",
      "Epoch 11/15\n",
      "60/60 [==============================] - 1s 22ms/step - loss: 0.0471\n",
      "Epoch 12/15\n",
      "60/60 [==============================] - 1s 24ms/step - loss: 0.0457\n",
      "Epoch 13/15\n",
      "60/60 [==============================] - 1s 22ms/step - loss: 0.0442\n",
      "Epoch 14/15\n",
      "60/60 [==============================] - 1s 22ms/step - loss: 0.0439\n",
      "Epoch 15/15\n",
      "60/60 [==============================] - 1s 23ms/step - loss: 0.0429\n"
     ]
    },
    {
     "data": {
      "text/plain": [
       "<keras.src.callbacks.History at 0x29b873e20>"
      ]
     },
     "execution_count": 314,
     "metadata": {},
     "output_type": "execute_result"
    }
   ],
   "source": [
    "model.fit(train_input, train_output, epochs=15, batch_size=250)"
   ]
  },
  {
   "cell_type": "markdown",
   "metadata": {},
   "source": [
    "# 7. Forecasting & Performance Evaluation\n",
    "\n",
    "Post-training, we can use the model for forecasting. We can then evaluate the model's performance using both the test and training sets."
   ]
  },
  {
   "cell_type": "code",
   "execution_count": 315,
   "metadata": {},
   "outputs": [
    {
     "name": "stdout",
     "output_type": "stream",
     "text": [
      "109/109 [==============================] - 0s 2ms/step\n",
      "468/468 [==============================] - 1s 2ms/step\n"
     ]
    }
   ],
   "source": [
    "# Predicting on the test set and training set separately\n",
    "test_preds = model.predict(test_input)\n",
    "df_test_preds = pd.DataFrame(\n",
    "    test_preds, columns=y_test.columns, index=y_test.index)\n",
    "\n",
    "train_preds = model.predict(train_input)\n",
    "df_train_preds = pd.DataFrame(\n",
    "    train_preds, columns=y_train.columns, index=y_train.index)\n",
    "\n",
    "df_preds_all = pd.concat([df_train_preds, df_test_preds], axis=0)\n",
    "df_preds_all['type'] = 'predicted'\n",
    "\n",
    "# Adding the actual values\n",
    "df_test_actual = pd.DataFrame(y_test)\n",
    "df_train_actual = pd.DataFrame(y_train)\n",
    "\n",
    "df_actual_all = pd.concat([df_train_actual, df_test_actual], axis=0)\n",
    "df_actual_all['type'] = 'actual'\n",
    "\n",
    "# Combining the actual and predicted values\n",
    "df_results_all = pd.concat([df_preds_all, df_actual_all], axis=0)\n",
    "df_results_all_long = df_results_all.reset_index().melt(id_vars=[\n",
    "    'window', 'type'])"
   ]
  },
  {
   "cell_type": "code",
   "execution_count": 316,
   "metadata": {},
   "outputs": [
    {
     "data": {
      "image/png": "[encoded data removed]",
      "text/plain": [
       "<Figure size 1016.12x300 with 3 Axes>"
      ]
     },
     "metadata": {},
     "output_type": "display_data"
    }
   ],
   "source": [
    "# plotting the predicted versus actual values over time\n",
    "g = sns.FacetGrid(df_results_all_long, col=\"variable\", col_wrap=3,\n",
    "                  hue=\"type\",  hue_order=['actual', 'predicted'],  height=3, sharey=False)\n",
    "g = g.map(plt.plot, \"window\", \"value\").add_legend(title=\"Type\")\n",
    "# adding dashed vertical line at the split_time\n",
    "for ax in g.axes:\n",
    "    ax.axvline(split_time, ls='--', color='black')\n",
    "\n",
    "plt.show()"
   ]
  },
  {
   "cell_type": "markdown",
   "metadata": {},
   "source": [
    "In the above figure, the dashed line is added at the split time between the training and testing sets. As you can see, the model has been successful in learning the underlying patterns in the data even with the gaps. However, there are some jumps in the predicted values near the gaps. This is because there are only a few observations, with only one at the beginning of the gap, for the model to use for prediction. You could set a threshold on the number of observations required for prediction to avoid this issue, or use the predicted values as input for the next prediction."
   ]
  },
  {
   "cell_type": "markdown",
   "metadata": {},
   "source": [
    "# Conclusion\n",
    "\n",
    "This notebook demonstrated how to effectively use the `sert` package for multivariate time series forecasting. With its intuitive API and preprocessing utilities, working with irregular time series data becomes efficient and straightforward.\n",
    "\n",
    "### Few notes:\n",
    "\n",
    "- In this tutorial, we didn't discuss the hyperparameter tuning process as the goal was to demonstrate how to work with the package API. We encourage you to experiment with different hyperparameters and see how they affect the model performance.\n",
    "\n",
    "- We did not consider best practices for forecasting in this tutorial. In practical applications, you might want to introduce additional features to the data to enhance the model's performance or employ techniques such as differencing to make the data stationary.\n",
    "\n",
    "- The package also provides another alternative model to `TimeSERT` called `TimeSERNN` which doesn't use the transformer architecture and only relies on set encoding and feedforward layers. `TimeSERNN` runs much faster but might compromise performance. You can simply replace `TimeSERT` with `TimeSERNN`, which has fewer hyperparameters, like below:\n",
    "\n",
    "```python\n",
    "from sert.models import TimeSERNN\n",
    "\n",
    "model = TimeSERNN(num_var=1,\n",
    "                 emb_dim=15,\n",
    "                 num_out=y_train.shape[1],\n",
    "                 task='classification')\n",
    "                 \n",
    "```"
   ]
  }
 ],
 "metadata": {
  "kernelspec": {
   "display_name": "virt_Sert",
   "language": "python",
   "name": "python3"
  },
  "language_info": {
   "codemirror_mode": {
    "name": "ipython",
    "version": 3
   },
   "file_extension": ".py",
   "mimetype": "text/x-python",
   "name": "python",
   "nbconvert_exporter": "python",
   "pygments_lexer": "ipython3",
   "version": "3.10.5"
  },
  "orig_nbformat": 4
 },
 "nbformat": 4,
 "nbformat_minor": 2
}
